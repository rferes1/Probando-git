{
 "cells": [
  {
   "cell_type": "markdown",
   "metadata": {},
   "source": [
    "# Tarea Grande 1\n",
    "\n",
    "##### Nombre: COMPLETAR\n",
    "\n",
    "## Importación de librerías\n",
    "\n",
    "En la siguiente celda, se importarán las librerías que serán utilizadas para esta parte de la tarea. Si deseas utilizar una librería adicional y que no sea *built-in*, repórtala en el ```README.md``` de tu repositorio. Solo así podremos saber que necesitamos instalar algo más para ejecutar tu tarea y evaluarla."
   ]
  },
  {
   "cell_type": "code",
   "execution_count": 141,
   "metadata": {},
   "outputs": [
    {
     "data": {
      "text/plain": [
       "2"
      ]
     },
     "execution_count": 141,
     "metadata": {},
     "output_type": "execute_result"
    }
   ],
   "source": [
    "import pandas as pd\n",
    "import matplotlib.pyplot as plt\n",
    "import datetime\n",
    "import altair as alt\n",
    "\n",
    "datetime.date(2002,12,4).weekday()"
   ]
  },
  {
   "cell_type": "markdown",
   "metadata": {},
   "source": [
    "## Cargar datos"
   ]
  },
  {
   "cell_type": "code",
   "execution_count": 142,
   "metadata": {},
   "outputs": [],
   "source": [
    "data = pd.read_csv(\"../dataset/data-iic1005-2019.csv\")"
   ]
  },
  {
   "cell_type": "markdown",
   "metadata": {},
   "source": [
    "## Estandarizar fechas"
   ]
  },
  {
   "cell_type": "code",
   "execution_count": 143,
   "metadata": {},
   "outputs": [],
   "source": [
    "data[\"fecha_siniestro\"] = pd.Series(data[\"fecha_siniestro\"]).str.replace('/', '-')"
   ]
  },
  {
   "cell_type": "markdown",
   "metadata": {},
   "source": [
    "## Gráfico de línea sobre cantidad de robos según día de la semana"
   ]
  },
  {
   "cell_type": "code",
   "execution_count": 152,
   "metadata": {},
   "outputs": [
    {
     "data": {
      "application/vnd.vegalite.v2+json": {
       "$schema": "https://vega.github.io/schema/vega-lite/v2.6.0.json",
       "config": {
        "view": {
         "height": 300,
         "width": 400
        }
       },
       "data": {
        "name": "data-3a17e9eb9048d0d23f23cbe0b700531e"
       },
       "datasets": {
        "data-3a17e9eb9048d0d23f23cbe0b700531e": [
         {
          "Cantidad de robos": 225,
          "Días": "0-Lunes"
         },
         {
          "Cantidad de robos": 247,
          "Días": "1-Martes"
         },
         {
          "Cantidad de robos": 254,
          "Días": "2-Miercoles"
         },
         {
          "Cantidad de robos": 250,
          "Días": "3-Jueves"
         },
         {
          "Cantidad de robos": 241,
          "Días": "4-Viernes"
         },
         {
          "Cantidad de robos": 186,
          "Días": "5-Sábado"
         },
         {
          "Cantidad de robos": 155,
          "Días": "6-Domingo"
         }
        ]
       },
       "encoding": {
        "x": {
         "field": "Días",
         "type": "nominal"
        },
        "y": {
         "field": "Cantidad de robos",
         "type": "quantitative"
        }
       },
       "mark": "line"
      },
      "image/png": "[encoded data removed]",
      "text/plain": [
       "<VegaLite 2 object>\n",
       "\n",
       "If you see this message, it means the renderer has not been properly enabled\n",
       "for the frontend that you are using. For more information, see\n",
       "https://altair-viz.github.io/user_guide/troubleshooting.html\n"
      ]
     },
     "execution_count": 152,
     "metadata": {},
     "output_type": "execute_result"
    }
   ],
   "source": [
    "import datetime\n",
    "def dias(fecha):\n",
    "    f1 = fecha.split()\n",
    "    f2 = f1[0].split(\"-\")\n",
    "    if int(f2[2]) < 100:\n",
    "        f2[2]= \"20\"+f2[2]\n",
    "    return f2\n",
    "def dia_semana(lista_fecha):\n",
    "    global data\n",
    "    return datetime.date(int(lista_fecha[2]),int(lista_fecha[1]),int(lista_fecha[0])).weekday()\n",
    "robos = [0,0,0,0,0,0,0]\n",
    "for i in range(0,1558):\n",
    "    if dia_semana(dias(data.fecha_siniestro[i])) == 0:\n",
    "        robos[0] = robos[0] +1\n",
    "    elif dia_semana(dias(data.fecha_siniestro[i])) == 1:\n",
    "        robos[1] = robos[1] +1\n",
    "    elif dia_semana(dias(data.fecha_siniestro[i])) == 2:\n",
    "        robos[2] = robos[2] +1\n",
    "    elif dia_semana(dias(data.fecha_siniestro[i])) == 3:\n",
    "        robos[3] = robos[3] +1\n",
    "    elif dia_semana(dias(data.fecha_siniestro[i])) == 4:\n",
    "        robos[4] = robos[4] +1\n",
    "    elif dia_semana(dias(data.fecha_siniestro[i])) == 5:\n",
    "        robos[5] = robos[5] +1 \n",
    "    elif dia_semana(dias(data.fecha_siniestro[i])) == 6:\n",
    "        robos[6] = robos[6] +1\n",
    "source = pd.DataFrame({\n",
    "    'Días': ['0-Lunes', '1-Martes', '2-Miercoles', '3-Jueves', '4-Viernes', '5-Sábado', '6-Domingo'],\n",
    "    'Cantidad de robos': [225, 247, 254, 250, 241, 186, 155]\n",
    "})\n",
    "\n",
    "alt.Chart(source).mark_line().encode(\n",
    "    x='Días',\n",
    "    y='Cantidad de robos'\n",
    ")\n",
    "\n"
   ]
  },
  {
   "cell_type": "markdown",
   "metadata": {},
   "source": [
    "## Gráfico de barra mes versus cantidad de robos"
   ]
  },
  {
   "cell_type": "code",
   "execution_count": 158,
   "metadata": {},
   "outputs": [
    {
     "data": {
      "application/vnd.vegalite.v2+json": {
       "$schema": "https://vega.github.io/schema/vega-lite/v2.6.0.json",
       "config": {
        "view": {
         "height": 300,
         "width": 400
        }
       },
       "data": {
        "name": "data-803407e45a4801e29d0aaab6d2f6ba76"
       },
       "datasets": {
        "data-803407e45a4801e29d0aaab6d2f6ba76": [
         {
          "Cantidad de robos": 263,
          "Meses": "A-Enero"
         },
         {
          "Cantidad de robos": 240,
          "Meses": "B-Febrero"
         },
         {
          "Cantidad de robos": 324,
          "Meses": "C-Marzo"
         },
         {
          "Cantidad de robos": 293,
          "Meses": "D-Abril"
         },
         {
          "Cantidad de robos": 411,
          "Meses": "E-Mayo"
         },
         {
          "Cantidad de robos": 23,
          "Meses": "F-Junio"
         },
         {
          "Cantidad de robos": 1,
          "Meses": "G-Julio"
         },
         {
          "Cantidad de robos": 0,
          "Meses": "H-Agosto"
         },
         {
          "Cantidad de robos": 0,
          "Meses": "I-Septiembre"
         },
         {
          "Cantidad de robos": 1,
          "Meses": "J-octubre"
         },
         {
          "Cantidad de robos": 0,
          "Meses": "K-Noviembre"
         },
         {
          "Cantidad de robos": 2,
          "Meses": "L-Diciembre"
         }
        ]
       },
       "encoding": {
        "x": {
         "field": "Cantidad de robos",
         "type": "quantitative"
        },
        "y": {
         "field": "Meses",
         "type": "nominal"
        }
       },
       "mark": "bar"
      },
      "image/png": "[encoded data removed]",
      "text/plain": [
       "<VegaLite 2 object>\n",
       "\n",
       "If you see this message, it means the renderer has not been properly enabled\n",
       "for the frontend that you are using. For more information, see\n",
       "https://altair-viz.github.io/user_guide/troubleshooting.html\n"
      ]
     },
     "execution_count": 158,
     "metadata": {},
     "output_type": "execute_result"
    }
   ],
   "source": [
    "robos_mes = [0,0,0,0,0,0,0,0,0,0,0,0]\n",
    "for i in range(0,1558):\n",
    "    if int(dias(data.fecha_siniestro[i])[1]) == 1:\n",
    "        robos_mes[0] = robos_mes[0] +1\n",
    "    elif int(dias(data.fecha_siniestro[i])[1]) == 2:\n",
    "        robos_mes[1] = robos_mes[1] +1\n",
    "    elif int(dias(data.fecha_siniestro[i])[1]) == 3:\n",
    "        robos_mes[2] = robos_mes[2] +1\n",
    "    elif int(dias(data.fecha_siniestro[i])[1]) == 4:\n",
    "        robos_mes[3] = robos_mes[3] +1\n",
    "    elif int(dias(data.fecha_siniestro[i])[1]) == 5:\n",
    "        robos_mes[4] = robos_mes[4] +1\n",
    "    elif int(dias(data.fecha_siniestro[i])[1]) == 6:\n",
    "        robos_mes[5] = robos_mes[5] +1\n",
    "    elif int(dias(data.fecha_siniestro[i])[1]) == 7:\n",
    "        robos_mes[6] = robos_mes[6] +1\n",
    "    elif int(dias(data.fecha_siniestro[i])[1]) == 8:\n",
    "        robos_mes[7] = robos_mes[7] +1\n",
    "    elif int(dias(data.fecha_siniestro[i])[1]) == 9:\n",
    "        robos_mes[8] = robos_mes[8] +1\n",
    "    elif int(dias(data.fecha_siniestro[i])[1])== 10:\n",
    "        robos_mes[9] = robos_mes[9] +1\n",
    "    elif int(dias(data.fecha_siniestro[i])[1])== 11:\n",
    "        robos_mes[10] = robos_mes[10] +1\n",
    "    elif int(dias(data.fecha_siniestro[i])[1]) == 12:\n",
    "        robos_mes[11] = robos_mes[11] +1\n",
    "\n",
    "source2 = pd.DataFrame({\n",
    "    'Meses':  ['A-Enero', 'B-Febrero', 'C-Marzo', 'D-Abril', 'E-Mayo', 'F-Junio', 'G-Julio',\"H-Agosto\",\"I-Septiembre\",\"J-octubre\",\"K-Noviembre\",\"L-Diciembre\"],\n",
    "    'Cantidad de robos':  [263, 240, 324, 293, 411, 23, 1, 0, 0, 1, 0, 2]\n",
    "})\n",
    "\n",
    "alt.Chart(source2).mark_bar().encode(\n",
    "    x='Cantidad de robos',\n",
    "    y='Meses'\n",
    ")"
   ]
  },
  {
   "cell_type": "markdown",
   "metadata": {},
   "source": [
    "## Gráficos de torta de marcas y modelos más robados"
   ]
  },
  {
   "cell_type": "code",
   "execution_count": null,
   "metadata": {},
   "outputs": [],
   "source": [
    "# Completar"
   ]
  }
 ],
 "metadata": {
  "kernelspec": {
   "display_name": "Python 3",
   "language": "python",
   "name": "python3"
  },
  "language_info": {
   "codemirror_mode": {
    "name": "ipython",
    "version": 3
   },
   "file_extension": ".py",
   "mimetype": "text/x-python",
   "name": "python",
   "nbconvert_exporter": "python",
   "pygments_lexer": "ipython3",
   "version": "3.7.3"
  },
  "varInspector": {
   "cols": {
    "lenName": 16,
    "lenType": 16,
    "lenVar": 40
   },
   "kernels_config": {
    "python": {
     "delete_cmd_postfix": "",
     "delete_cmd_prefix": "del ",
     "library": "var_list.py",
     "varRefreshCmd": "print(var_dic_list())"
    },
    "r": {
     "delete_cmd_postfix": ") ",
     "delete_cmd_prefix": "rm(",
     "library": "var_list.r",
     "varRefreshCmd": "cat(var_dic_list()) "
    }
   },
   "types_to_exclude": [
    "module",
    "function",
    "builtin_function_or_method",
    "instance",
    "_Feature"
   ],
   "window_display": false
  }
 },
 "nbformat": 4,
 "nbformat_minor": 2
}
